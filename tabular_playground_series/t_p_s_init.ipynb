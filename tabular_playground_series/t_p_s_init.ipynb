{
 "cells": [
  {
   "cell_type": "code",
   "execution_count": null,
   "metadata": {},
   "outputs": [],
   "source": [
    "import pandas as pd\n",
    "import numpy as np\n",
    "import matplotlib.pyplot as plt\n",
    "import seaborn as sns\n",
    "import statsmodels as sm\n",
    "%matplotlib inline\n",
    "\n",
    "import zipfile\n",
    "from sklearn.model_selection import cross_val_score\n",
    "from sklearn.model_selection import GridSearchCV\n",
    "\n",
    "from sklearn.linear_model import LinearRegression\n",
    "from statsmodels.graphics.tsaplots import plot_pacf\n",
    "\n",
    "from sklearn.model_selection import train_test_split\n",
    "from sklearn.metrics import mean_absolute_error"
   ]
  },
  {
   "cell_type": "code",
   "execution_count": null,
   "metadata": {},
   "outputs": [],
   "source": [
    "def smape(A, F):\n",
    "    return 100/len(A) * np.sum(2 * np.abs(F - A) / (np.abs(A) + np.abs(F)))"
   ]
  },
  {
   "cell_type": "code",
   "execution_count": null,
   "metadata": {},
   "outputs": [],
   "source": [
    "zf = zipfile.ZipFile('C:/Users/Serueja/Downloads/tabular-playground-series-sep-2022.zip')\n",
    "test = pd.read_csv(zf.open('test.csv'))\n",
    "train = pd.read_csv(zf.open('train.csv'))\n",
    "submission_example = pd.read_csv(zf.open('sample_submission.csv'))"
   ]
  },
  {
   "cell_type": "markdown",
   "metadata": {},
   "source": [
    "**INITIAL DATA EXPLORATION**"
   ]
  },
  {
   "cell_type": "code",
   "execution_count": null,
   "metadata": {},
   "outputs": [],
   "source": [
    "train.head(20)"
   ]
  },
  {
   "cell_type": "code",
   "execution_count": null,
   "metadata": {},
   "outputs": [],
   "source": [
    "train['product'].nunique()"
   ]
  },
  {
   "cell_type": "code",
   "execution_count": null,
   "metadata": {},
   "outputs": [],
   "source": [
    "(train.isna().any(), test.isna().any())"
   ]
  },
  {
   "cell_type": "code",
   "execution_count": null,
   "metadata": {},
   "outputs": [],
   "source": [
    "train.groupby('date')['row_id'].count()"
   ]
  },
  {
   "cell_type": "code",
   "execution_count": null,
   "metadata": {},
   "outputs": [],
   "source": [
    "(train.date.nunique(), test.date.nunique())"
   ]
  },
  {
   "cell_type": "code",
   "execution_count": null,
   "metadata": {},
   "outputs": [],
   "source": [
    "train[train['date'] == '2017-01-01'].head()\n",
    "train['date'] = pd.to_datetime(train['date'], yearfirst=True)\n",
    "train['new_date'] = train['date'].dt.to_period('M')"
   ]
  },
  {
   "cell_type": "code",
   "execution_count": null,
   "metadata": {},
   "outputs": [],
   "source": [
    "train.groupby(['country', 'store'])['num_sold'].sum()"
   ]
  },
  {
   "cell_type": "markdown",
   "metadata": {},
   "source": [
    "**DATA VISUALIZATION**"
   ]
  },
  {
   "cell_type": "markdown",
   "metadata": {},
   "source": [
    "Here we can see that probably we need to log(x+1) our sales in order to put it through regression models\n",
    "\n",
    "\n",
    "\n",
    "Also we can notice similarities in our store sales distribution, probably we would need same function to transform the data into normal distribution "
   ]
  },
  {
   "cell_type": "code",
   "execution_count": null,
   "metadata": {},
   "outputs": [],
   "source": [
    "train[train['store'] == 'KaggleMart']['num_sold'].hist(bins=100)"
   ]
  },
  {
   "cell_type": "code",
   "execution_count": null,
   "metadata": {},
   "outputs": [],
   "source": [
    "train[train['store'] == 'KaggleRama']['num_sold'].hist(bins=100)"
   ]
  },
  {
   "cell_type": "code",
   "execution_count": null,
   "metadata": {},
   "outputs": [],
   "source": [
    "country_sales = train.groupby('country')['num_sold'].sum()\n",
    "\n",
    "country_sales.sort_values(inplace=True)\n",
    "sns.barplot(x=country_sales.index, y=country_sales.values)\n",
    "store_sales = train.groupby('store')['num_sold'].sum()\n",
    "\n",
    "sns.barplot(x=store_sales.index, y=store_sales.values)"
   ]
  },
  {
   "cell_type": "code",
   "execution_count": null,
   "metadata": {},
   "outputs": [],
   "source": [
    "train.info()"
   ]
  },
  {
   "cell_type": "code",
   "execution_count": null,
   "metadata": {},
   "outputs": [],
   "source": [
    "books_over_time_df = []\n",
    "k=train[train['product'] == 'Kaggle Advanced Techniques'][['new_date','num_sold']]\n",
    "k = k.groupby('new_date', as_index=False)['num_sold'].sum()\n",
    "k['new_date'] = k['new_date'].astype('datetime64')\n",
    "books_over_time_df.append(k)\n",
    "k=train[train['product'] == 'Kaggle Getting Started'][['new_date','num_sold']]\n",
    "k = k.groupby('new_date', as_index=False)['num_sold'].sum()\n",
    "k['new_date'] = k['new_date'].astype('datetime64')\n",
    "books_over_time_df.append(k) \n",
    "k=train[train['product'] == 'Kaggle Recipe Book'][['new_date','num_sold']]\n",
    "k = k.groupby('new_date', as_index=False)['num_sold'].sum()\n",
    "k['new_date'] = k['new_date'].astype('datetime64')\n",
    "books_over_time_df.append(k)\n",
    "k=train[train['product'] == 'Kaggle for Kids: One Smart Goose'][['new_date','num_sold']]\n",
    "k = k.groupby('new_date', as_index=False)['num_sold'].sum()\n",
    "k['new_date'] = k['new_date'].astype('datetime64')\n",
    "books_over_time_df.append(k)\n",
    "k=train[train['product'] == 'Kaggle Advanced Techniques'][['new_date','num_sold']]\n",
    "k = k.groupby('new_date', as_index=False)['num_sold'].sum()\n",
    "k['new_date'] = k['new_date'].astype('datetime64')\n",
    "books_over_time_df.append(k)"
   ]
  },
  {
   "cell_type": "code",
   "execution_count": null,
   "metadata": {},
   "outputs": [],
   "source": [
    "#fig, ax = plt.subplots(3, 2, figsize=(5 ,5))\n",
    "for i in range(len(books_over_time_df)):\n",
    "    plt.plot_date('new_date', 'num_sold', data = books_over_time_df[i],linestyle='solid')\n",
    "    plt.xticks(rotation=45)\n",
    "    plt.xlabel('Месяцы')\n",
    "    plt.ylabel('Продажи')\n",
    "    plt.show()"
   ]
  },
  {
   "cell_type": "markdown",
   "metadata": {},
   "source": [
    "**Here we can see an obvious seasonality and trend, so we must define a trend for each book or even for each country and each book as a pair, in order to make our predictions more accurate** "
   ]
  },
  {
   "cell_type": "code",
   "execution_count": null,
   "metadata": {},
   "outputs": [],
   "source": [
    "books_over_time_df[0]['new_date'] = books_over_time_df[0]['new_date'].astype('datetime64')\n",
    "ax = sns.lineplot(data=books_over_time_df[0], x = 'new_date', y = 'num_sold')\n",
    "sns.scatterplot(data=books_over_time_df[0], x = 'new_date', y = 'num_sold', ax=ax)\n",
    "ax.set(xlabel='Месяц', ylabel='Продано копий')\n",
    "sns.set(rc={\"figure.figsize\":(5, 5)}, font_scale=2)\n",
    "plt.xticks(rotation=45)\n",
    "plt.show()"
   ]
  },
  {
   "cell_type": "code",
   "execution_count": null,
   "metadata": {},
   "outputs": [],
   "source": [
    "country_store_sales = train.groupby(['store', 'country'])['num_sold'].sum()\n",
    "country_store_sales.sort_values(inplace=True)\n",
    "\n",
    "country_store_sales\n",
    "ax = country_store_sales.unstack(level=0).plot(kind='bar', subplots=False, rot=0, figsize=(6, 8), layout=(4, 6))\n",
    "plt.tight_layout()"
   ]
  },
  {
   "cell_type": "markdown",
   "metadata": {},
   "source": [
    "**Lets devide our dataset into 48 different sections, for each country, store, and product**"
   ]
  },
  {
   "cell_type": "markdown",
   "metadata": {},
   "source": [
    "**FEATURE ENGINEERING**"
   ]
  },
  {
   "cell_type": "code",
   "execution_count": null,
   "metadata": {},
   "outputs": [],
   "source": [
    "print(train.head())\n",
    "X_train = []\n",
    "X_test = []\n",
    "\n",
    "#country = Belgium, store = KaggleMart\n",
    "X_train.append(train[(train['country'] == 'Belgium') & (train['store'] == 'KaggleMart') & (train['product'] == 'Kaggle Advanced Techniques')])\n",
    "X_train.append(train[(train['country'] == 'Belgium') & (train['store'] == 'KaggleMart') & (train['product'] == 'Kaggle Getting Started')])\n",
    "X_train.append(train[(train['country'] == 'Belgium') & (train['store'] == 'KaggleMart') & (train['product'] == 'Kaggle Recipe Book')])\n",
    "X_train.append(train[(train['country'] == 'Belgium') & (train['store'] == 'KaggleMart') & (train['product'] == 'Kaggle for Kids: One Smart Goose')])\n",
    "#country = Belgium, store = KaggleRama\n",
    "X_train.append(train[(train['country'] == 'Belgium') & (train['store'] == 'KaggleRama') & (train['product'] == 'Kaggle Advanced Techniques')])\n",
    "X_train.append(train[(train['country'] == 'Belgium') & (train['store'] == 'KaggleRama') & (train['product'] == 'Kaggle Getting Started')])\n",
    "X_train.append(train[(train['country'] == 'Belgium') & (train['store'] == 'KaggleRama') & (train['product'] == 'Kaggle Recipe Book')])\n",
    "X_train.append(train[(train['country'] == 'Belgium') & (train['store'] == 'KaggleRama') & (train['product'] == 'Kaggle for Kids: One Smart Goose')])\n",
    "\n",
    "#country = France, store = KaggleMart\n",
    "X_train.append(train[(train['country'] == 'France') & (train['store'] == 'KaggleMart') & (train['product'] == 'Kaggle Advanced Techniques')])\n",
    "X_train.append(train[(train['country'] == 'France') & (train['store'] == 'KaggleMart') & (train['product'] == 'Kaggle Getting Started')])\n",
    "X_train.append(train[(train['country'] == 'France') & (train['store'] == 'KaggleMart') & (train['product'] == 'Kaggle Recipe Book')])\n",
    "X_train.append(train[(train['country'] == 'France') & (train['store'] == 'KaggleMart') & (train['product'] == 'Kaggle for Kids: One Smart Goose')])\n",
    "#country = France, store = KaggleRama\n",
    "X_train.append(train[(train['country'] == 'France') & (train['store'] == 'KaggleRama') & (train['product'] == 'Kaggle Advanced Techniques')])\n",
    "X_train.append(train[(train['country'] == 'France') & (train['store'] == 'KaggleRama') & (train['product'] == 'Kaggle Getting Started')])\n",
    "X_train.append(train[(train['country'] == 'France') & (train['store'] == 'KaggleRama') & (train['product'] == 'Kaggle Recipe Book')])\n",
    "X_train.append(train[(train['country'] == 'France') & (train['store'] == 'KaggleRama') & (train['product'] == 'Kaggle for Kids: One Smart Goose')])\n",
    "\n",
    "#country = Germany, store = KaggleMart\n",
    "X_train.append(train[(train['country'] == 'Germany') & (train['store'] == 'KaggleMart') & (train['product'] == 'Kaggle Advanced Techniques')])\n",
    "X_train.append(train[(train['country'] == 'Germany') & (train['store'] == 'KaggleMart') & (train['product'] == 'Kaggle Getting Started')])\n",
    "X_train.append(train[(train['country'] == 'Germany') & (train['store'] == 'KaggleMart') & (train['product'] == 'Kaggle Recipe Book')])\n",
    "X_train.append(train[(train['country'] == 'Germany') & (train['store'] == 'KaggleMart') & (train['product'] == 'Kaggle for Kids: One Smart Goose')])\n",
    "#country = Germany, store = KaggleRama\n",
    "X_train.append(train[(train['country'] == 'Germany') & (train['store'] == 'KaggleRama') & (train['product'] == 'Kaggle Advanced Techniques')])\n",
    "X_train.append(train[(train['country'] == 'Germany') & (train['store'] == 'KaggleRama') & (train['product'] == 'Kaggle Getting Started')])\n",
    "X_train.append(train[(train['country'] == 'Germany') & (train['store'] == 'KaggleRama') & (train['product'] == 'Kaggle Recipe Book')])\n",
    "X_train.append(train[(train['country'] == 'Germany') & (train['store'] == 'KaggleRama') & (train['product'] == 'Kaggle for Kids: One Smart Goose')])\n",
    "\n",
    "#country = Italy, store = KaggleMart\n",
    "X_train.append(train[(train['country'] == 'Italy') & (train['store'] == 'KaggleMart') & (train['product'] == 'Kaggle Advanced Techniques')])\n",
    "X_train.append(train[(train['country'] == 'Italy') & (train['store'] == 'KaggleMart') & (train['product'] == 'Kaggle Getting Started')])\n",
    "X_train.append(train[(train['country'] == 'Italy') & (train['store'] == 'KaggleMart') & (train['product'] == 'Kaggle Recipe Book')])\n",
    "X_train.append(train[(train['country'] == 'Italy') & (train['store'] == 'KaggleMart') & (train['product'] == 'Kaggle for Kids: One Smart Goose')])\n",
    "#country = Italy, store = KaggleRama\n",
    "X_train.append(train[(train['country'] == 'Italy') & (train['store'] == 'KaggleRama') & (train['product'] == 'Kaggle Advanced Techniques')])\n",
    "X_train.append(train[(train['country'] == 'Italy') & (train['store'] == 'KaggleRama') & (train['product'] == 'Kaggle Getting Started')])\n",
    "X_train.append(train[(train['country'] == 'Italy') & (train['store'] == 'KaggleRama') & (train['product'] == 'Kaggle Recipe Book')])\n",
    "X_train.append(train[(train['country'] == 'Italy') & (train['store'] == 'KaggleRama') & (train['product'] == 'Kaggle for Kids: One Smart Goose')])\n",
    "\n",
    "#country = Poland, store = KaggleMart\n",
    "X_train.append(train[(train['country'] == 'Poland') & (train['store'] == 'KaggleMart') & (train['product'] == 'Kaggle Advanced Techniques')])\n",
    "X_train.append(train[(train['country'] == 'Poland') & (train['store'] == 'KaggleMart') & (train['product'] == 'Kaggle Getting Started')])\n",
    "X_train.append(train[(train['country'] == 'Poland') & (train['store'] == 'KaggleMart') & (train['product'] == 'Kaggle Recipe Book')])\n",
    "X_train.append(train[(train['country'] == 'Poland') & (train['store'] == 'KaggleMart') & (train['product'] == 'Kaggle for Kids: One Smart Goose')])\n",
    "#country = Poland, store = KaggleRama\n",
    "X_train.append(train[(train['country'] == 'Poland') & (train['store'] == 'KaggleRama') & (train['product'] == 'Kaggle Advanced Techniques')])\n",
    "X_train.append(train[(train['country'] == 'Poland') & (train['store'] == 'KaggleRama') & (train['product'] == 'Kaggle Getting Started')])\n",
    "X_train.append(train[(train['country'] == 'Poland') & (train['store'] == 'KaggleRama') & (train['product'] == 'Kaggle Recipe Book')])\n",
    "X_train.append(train[(train['country'] == 'Poland') & (train['store'] == 'KaggleRama') & (train['product'] == 'Kaggle for Kids: One Smart Goose')])\n",
    "\n",
    "#country = Spain, store = KaggleMart\n",
    "X_train.append(train[(train['country'] == 'Spain') & (train['store'] == 'KaggleMart') & (train['product'] == 'Kaggle Advanced Techniques')])\n",
    "X_train.append(train[(train['country'] == 'Spain') & (train['store'] == 'KaggleMart') & (train['product'] == 'Kaggle Getting Started')])\n",
    "X_train.append(train[(train['country'] == 'Spain') & (train['store'] == 'KaggleMart') & (train['product'] == 'Kaggle Recipe Book')])\n",
    "X_train.append(train[(train['country'] == 'Spain') & (train['store'] == 'KaggleMart') & (train['product'] == 'Kaggle for Kids: One Smart Goose')])\n",
    "#country = Poland, store = KaggleRama\n",
    "X_train.append(train[(train['country'] == 'Spain') & (train['store'] == 'KaggleRama') & (train['product'] == 'Kaggle Advanced Techniques')])\n",
    "X_train.append(train[(train['country'] == 'Spain') & (train['store'] == 'KaggleRama') & (train['product'] == 'Kaggle Getting Started')])\n",
    "X_train.append(train[(train['country'] == 'Spain') & (train['store'] == 'KaggleRama') & (train['product'] == 'Kaggle Recipe Book')])\n",
    "X_train.append(train[(train['country'] == 'Spain') & (train['store'] == 'KaggleRama') & (train['product'] == 'Kaggle for Kids: One Smart Goose')])"
   ]
  },
  {
   "cell_type": "code",
   "execution_count": null,
   "metadata": {},
   "outputs": [],
   "source": [
    "X_test.append(test[(test['country'] == 'Belgium') & (test['store'] == 'KaggleMart') & (test['product'] == 'Kaggle Advanced Techniques')])\n",
    "X_test.append(test[(test['country'] == 'Belgium') & (test['store'] == 'KaggleMart') & (test['product'] == 'Kaggle Getting Started')])\n",
    "X_test.append(test[(test['country'] == 'Belgium') & (test['store'] == 'KaggleMart') & (test['product'] == 'Kaggle Recipe Book')])\n",
    "X_test.append(test[(test['country'] == 'Belgium') & (test['store'] == 'KaggleMart') & (test['product'] == 'Kaggle for Kids: One Smart Goose')])\n",
    "#country = Belgium, store = KaggleRama\n",
    "X_test.append(test[(test['country'] == 'Belgium') & (test['store'] == 'KaggleRama') & (test['product'] == 'Kaggle Advanced Techniques')])\n",
    "X_test.append(test[(test['country'] == 'Belgium') & (test['store'] == 'KaggleRama') & (test['product'] == 'Kaggle Getting Started')])\n",
    "X_test.append(test[(test['country'] == 'Belgium') & (test['store'] == 'KaggleRama') & (test['product'] == 'Kaggle Recipe Book')])\n",
    "X_test.append(test[(test['country'] == 'Belgium') & (test['store'] == 'KaggleRama') & (test['product'] == 'Kaggle for Kids: One Smart Goose')])\n",
    "\n",
    "#country = France, store = KaggleMart\n",
    "X_test.append(test[(test['country'] == 'France') & (test['store'] == 'KaggleMart') & (test['product'] == 'Kaggle Advanced Techniques')])\n",
    "X_test.append(test[(test['country'] == 'France') & (test['store'] == 'KaggleMart') & (test['product'] == 'Kaggle Getting Started')])\n",
    "X_test.append(test[(test['country'] == 'France') & (test['store'] == 'KaggleMart') & (test['product'] == 'Kaggle Recipe Book')])\n",
    "X_test.append(test[(test['country'] == 'France') & (test['store'] == 'KaggleMart') & (test['product'] == 'Kaggle for Kids: One Smart Goose')])\n",
    "#country = France, store = KaggleRama\n",
    "X_test.append(test[(test['country'] == 'France') & (test['store'] == 'KaggleRama') & (test['product'] == 'Kaggle Advanced Techniques')])\n",
    "X_test.append(test[(test['country'] == 'France') & (test['store'] == 'KaggleRama') & (test['product'] == 'Kaggle Getting Started')])\n",
    "X_test.append(test[(test['country'] == 'France') & (test['store'] == 'KaggleRama') & (test['product'] == 'Kaggle Recipe Book')])\n",
    "X_test.append(test[(test['country'] == 'France') & (test['store'] == 'KaggleRama') & (test['product'] == 'Kaggle for Kids: One Smart Goose')])\n",
    "\n",
    "#country = Germany, store = KaggleMart\n",
    "X_test.append(test[(test['country'] == 'Germany') & (test['store'] == 'KaggleMart') & (test['product'] == 'Kaggle Advanced Techniques')])\n",
    "X_test.append(test[(test['country'] == 'Germany') & (test['store'] == 'KaggleMart') & (test['product'] == 'Kaggle Getting Started')])\n",
    "X_test.append(test[(test['country'] == 'Germany') & (test['store'] == 'KaggleMart') & (test['product'] == 'Kaggle Recipe Book')])\n",
    "X_test.append(test[(test['country'] == 'Germany') & (test['store'] == 'KaggleMart') & (test['product'] == 'Kaggle for Kids: One Smart Goose')])\n",
    "#country = Germany, store = KaggleRama\n",
    "X_test.append(test[(test['country'] == 'Germany') & (test['store'] == 'KaggleRama') & (test['product'] == 'Kaggle Advanced Techniques')])\n",
    "X_test.append(test[(test['country'] == 'Germany') & (test['store'] == 'KaggleRama') & (test['product'] == 'Kaggle Getting Started')])\n",
    "X_test.append(test[(test['country'] == 'Germany') & (test['store'] == 'KaggleRama') & (test['product'] == 'Kaggle Recipe Book')])\n",
    "X_test.append(test[(test['country'] == 'Germany') & (test['store'] == 'KaggleRama') & (test['product'] == 'Kaggle for Kids: One Smart Goose')])\n",
    "\n",
    "#country = Italy, store = KaggleMart\n",
    "X_test.append(test[(test['country'] == 'Italy') & (test['store'] == 'KaggleMart') & (test['product'] == 'Kaggle Advanced Techniques')])\n",
    "X_test.append(test[(test['country'] == 'Italy') & (test['store'] == 'KaggleMart') & (test['product'] == 'Kaggle Getting Started')])\n",
    "X_test.append(test[(test['country'] == 'Italy') & (test['store'] == 'KaggleMart') & (test['product'] == 'Kaggle Recipe Book')])\n",
    "X_test.append(test[(test['country'] == 'Italy') & (test['store'] == 'KaggleMart') & (test['product'] == 'Kaggle for Kids: One Smart Goose')])\n",
    "#country = Italy, store = KaggleRama\n",
    "X_test.append(test[(test['country'] == 'Italy') & (test['store'] == 'KaggleRama') & (test['product'] == 'Kaggle Advanced Techniques')])\n",
    "X_test.append(test[(test['country'] == 'Italy') & (test['store'] == 'KaggleRama') & (test['product'] == 'Kaggle Getting Started')])\n",
    "X_test.append(test[(test['country'] == 'Italy') & (test['store'] == 'KaggleRama') & (test['product'] == 'Kaggle Recipe Book')])\n",
    "X_test.append(test[(test['country'] == 'Italy') & (test['store'] == 'KaggleRama') & (test['product'] == 'Kaggle for Kids: One Smart Goose')])\n",
    "\n",
    "#country = Poland, store = KaggleMart\n",
    "X_test.append(test[(test['country'] == 'Poland') & (test['store'] == 'KaggleMart') & (test['product'] == 'Kaggle Advanced Techniques')])\n",
    "X_test.append(test[(test['country'] == 'Poland') & (test['store'] == 'KaggleMart') & (test['product'] == 'Kaggle Getting Started')])\n",
    "X_test.append(test[(test['country'] == 'Poland') & (test['store'] == 'KaggleMart') & (test['product'] == 'Kaggle Recipe Book')])\n",
    "X_test.append(test[(test['country'] == 'Poland') & (test['store'] == 'KaggleMart') & (test['product'] == 'Kaggle for Kids: One Smart Goose')])\n",
    "#country = Poland, store = KaggleRama\n",
    "X_test.append(test[(test['country'] == 'Poland') & (test['store'] == 'KaggleRama') & (test['product'] == 'Kaggle Advanced Techniques')])\n",
    "X_test.append(test[(test['country'] == 'Poland') & (test['store'] == 'KaggleRama') & (test['product'] == 'Kaggle Getting Started')])\n",
    "X_test.append(test[(test['country'] == 'Poland') & (test['store'] == 'KaggleRama') & (test['product'] == 'Kaggle Recipe Book')])\n",
    "X_test.append(test[(test['country'] == 'Poland') & (test['store'] == 'KaggleRama') & (test['product'] == 'Kaggle for Kids: One Smart Goose')])\n",
    "\n",
    "#country = Spain, store = KaggleMart\n",
    "X_test.append(test[(test['country'] == 'Spain') & (test['store'] == 'KaggleMart') & (test['product'] == 'Kaggle Advanced Techniques')])\n",
    "X_test.append(test[(test['country'] == 'Spain') & (test['store'] == 'KaggleMart') & (test['product'] == 'Kaggle Getting Started')])\n",
    "X_test.append(test[(test['country'] == 'Spain') & (test['store'] == 'KaggleMart') & (test['product'] == 'Kaggle Recipe Book')])\n",
    "X_test.append(test[(test['country'] == 'Spain') & (test['store'] == 'KaggleMart') & (test['product'] == 'Kaggle for Kids: One Smart Goose')])\n",
    "#country = Poland, store = KaggleRama\n",
    "X_test.append(test[(test['country'] == 'Spain') & (test['store'] == 'KaggleRama') & (test['product'] == 'Kaggle Advanced Techniques')])\n",
    "X_test.append(test[(test['country'] == 'Spain') & (test['store'] == 'KaggleRama') & (test['product'] == 'Kaggle Getting Started')])\n",
    "X_test.append(test[(test['country'] == 'Spain') & (test['store'] == 'KaggleRama') & (test['product'] == 'Kaggle Recipe Book')])\n",
    "X_test.append(test[(test['country'] == 'Spain') & (test['store'] == 'KaggleRama') & (test['product'] == 'Kaggle for Kids: One Smart Goose')])"
   ]
  },
  {
   "cell_type": "code",
   "execution_count": null,
   "metadata": {},
   "outputs": [],
   "source": [
    "X_train[46].head()"
   ]
  },
  {
   "cell_type": "code",
   "execution_count": null,
   "metadata": {},
   "outputs": [],
   "source": [
    "for i in X_train:\n",
    "    i.drop(['row_id', 'country', 'store', 'product'], axis=1, inplace=True)\n",
    "for i in X_test:\n",
    "    i.drop(['row_id', 'country', 'store', 'product'], axis=1, inplace=True)"
   ]
  },
  {
   "cell_type": "code",
   "execution_count": null,
   "metadata": {},
   "outputs": [],
   "source": [
    "from matplotlib.pyplot import figure, subplot\n",
    "plt.rcParams[\"figure.figsize\"] = (20,20)\n",
    "fig, ax = plt.subplots(4)\n",
    "for i in range(4):\n",
    "    ax[i].plot('date', 'num_sold', data=X_train[i], linestyle='solid')\n",
    "    plt.xticks(rotation=45)\n",
    "    plt.xlabel('Date')\n",
    "    plt.ylabel('Num Sold')"
   ]
  },
  {
   "cell_type": "markdown",
   "metadata": {},
   "source": [
    "We now also can and should think of model validation, especially data, which we will use for it. My idea is to chop off a whole year of a train dataset and check SMAPE on that chunk of data, then we could manipulate the hyperparameters and then let our models learn from another year, and only then predict values for test dataset."
   ]
  },
  {
   "cell_type": "code",
   "execution_count": null,
   "metadata": {},
   "outputs": [],
   "source": [
    "X_train_mini = []\n",
    "X_eval = []"
   ]
  },
  {
   "cell_type": "code",
   "execution_count": null,
   "metadata": {},
   "outputs": [],
   "source": [
    "for i in X_train:\n",
    "    X_train_mini.append(i[i['date'] <= '2020-01-01'])\n",
    "    X_eval.append(i[i['date'] > '2020-01-01'])"
   ]
  },
  {
   "cell_type": "code",
   "execution_count": null,
   "metadata": {},
   "outputs": [],
   "source": [
    "X_train_mini[0]"
   ]
  },
  {
   "cell_type": "markdown",
   "metadata": {},
   "source": [
    "**Here let's try using from statsmodels.tsa.seasonal.STL**"
   ]
  },
  {
   "cell_type": "code",
   "execution_count": null,
   "metadata": {},
   "outputs": [],
   "source": [
    "temp = X_train[0].copy()"
   ]
  },
  {
   "cell_type": "code",
   "execution_count": null,
   "metadata": {},
   "outputs": [],
   "source": [
    "from scipy import signal\n",
    "from statsmodels.tsa.seasonal import seasonal_decompose\n",
    "from statsmodels.tsa.seasonal import STL\n",
    "\n",
    "stl = STL(temp, seasonal=51, robust=True)\n",
    "res = stl.fit()\n",
    "fig = res.plot()"
   ]
  },
  {
   "cell_type": "code",
   "execution_count": null,
   "metadata": {},
   "outputs": [],
   "source": [
    "# X_train[0]\n",
    "plt.rcParams[\"figure.figsize\"] = (15, 10)\n",
    "plt.plot_date(x=X_train[0]['date'], y=X_train[0]['num_sold'])"
   ]
  },
  {
   "cell_type": "markdown",
   "metadata": {},
   "source": [
    "Plotting the trend"
   ]
  },
  {
   "cell_type": "code",
   "execution_count": null,
   "metadata": {},
   "outputs": [],
   "source": [
    "plt.rcParams[\"figure.figsize\"] = (15, 10)\n",
    "detrended = signal.detrend(X_train[0].num_sold.values)\n",
    "#plt.plot(X_train[0]['num_sold'] - detrended)\n",
    "#plt.plot(X_train[0]['num_sold'])"
   ]
  },
  {
   "cell_type": "code",
   "execution_count": null,
   "metadata": {},
   "outputs": [],
   "source": [
    "temp"
   ]
  },
  {
   "cell_type": "code",
   "execution_count": null,
   "metadata": {},
   "outputs": [],
   "source": [
    "temp = X_train[0].copy()\n",
    "\n",
    "temp.reset_index(inplace=True)\n",
    "temp.drop('index', axis=1, inplace=True)\n",
    "temp.date = temp.date.astype('datetime64[ns]')\n",
    "temp"
   ]
  },
  {
   "cell_type": "code",
   "execution_count": null,
   "metadata": {},
   "outputs": [],
   "source": [
    "models = [] #gotta be 48 models"
   ]
  },
  {
   "cell_type": "markdown",
   "metadata": {},
   "source": [
    "**Now we did all the preparations we need, let's dive into modelling**"
   ]
  },
  {
   "cell_type": "markdown",
   "metadata": {},
   "source": [
    "Here we start with a common practice CalendarFourier and DP. I guess here we could pipelines, but to make things faster I will stick with an ancient and not so pretty way. Hope some day will figure out how to use pipelines here."
   ]
  },
  {
   "cell_type": "code",
   "execution_count": null,
   "metadata": {},
   "outputs": [],
   "source": [
    "X_train[0].tail()"
   ]
  },
  {
   "cell_type": "code",
   "execution_count": null,
   "metadata": {},
   "outputs": [],
   "source": [
    "date_range_1 = pd.date_range(start='2017-01-01', end='2020-12-31')\n",
    "date_range_2 = pd.date_range(start='2017-01-01', end='2019-12-31')\n",
    "date_range_3 = pd.date_range(start='2021-01-01', end='2021-12-31')\n",
    "date_range_test_for_2 = pd.date_range(start='2020-01-01', end='2020-12-31')"
   ]
  },
  {
   "cell_type": "code",
   "execution_count": null,
   "metadata": {},
   "outputs": [],
   "source": [
    "from statsmodels.tsa.deterministic import CalendarFourier, DeterministicProcess\n",
    "#\n",
    "# fourier = CalendarFourier(freq='A', order=550)\n",
    "\n",
    "# dp = DeterministicProcess(\n",
    "#     index=temp.date,\n",
    "#     constant=True,               # dummy feature for bias (y-intercept)\n",
    "#     order=2,                     # trend (order 1 means linear)\n",
    "#     seasonal=True,               # weekly seasonality (indicators)\n",
    "#     additional_terms=[fourier],  # annual seasonality (fourier)\n",
    "#     drop=True,                   # drop terms to avoid collinearity\n",
    "# )\n",
    "fourier = CalendarFourier(freq='A', order=550)\n",
    "\n",
    "dp = DeterministicProcess(\n",
    "    index=temp.date,\n",
    "    constant=True,               # dummy feature for bias (y-intercept)\n",
    "    order=2,                     # trend (order 1 means linear)\n",
    "    seasonal=True,               # weekly seasonality (indicators)\n",
    "    additional_terms=[fourier],  # annual seasonality (fourier)\n",
    "    drop=True,                   # drop terms to avoid collinearity\n",
    ")"
   ]
  },
  {
   "cell_type": "code",
   "execution_count": null,
   "metadata": {},
   "outputs": [],
   "source": [
    "fourier_d_r_1 = CalendarFourier(freq='A', order=200)\n",
    "dp_d_r_1 = DeterministicProcess(\n",
    "    index=date_range_1,\n",
    "    constant=True,               # dummy feature for bias (y-intercept)\n",
    "    order=2,                     # trend (order 1 means linear)\n",
    "    seasonal=True,               # weekly seasonality (indicators)\n",
    "    additional_terms=[fourier_d_r_1],  # annual seasonality (fourier)\n",
    "    drop=True,                   # drop terms to avoid collinearity\n",
    ")"
   ]
  },
  {
   "cell_type": "code",
   "execution_count": null,
   "metadata": {},
   "outputs": [],
   "source": [
    "fourier_d_r_2 = CalendarFourier(freq='A', order=200)\n",
    "dp_d_r_2 = DeterministicProcess(\n",
    "    index=date_range_2,\n",
    "    constant=True,               # dummy feature for bias (y-intercept)\n",
    "    order=2,                     # trend (order 1 means linear)\n",
    "    seasonal=True,               # weekly seasonality (indicators)\n",
    "    additional_terms=[fourier_d_r_2],  # annual seasonality (fourier)\n",
    "    drop=True,                   # drop terms to avoid collinearity\n",
    ")"
   ]
  },
  {
   "cell_type": "markdown",
   "metadata": {},
   "source": [
    "**Рубрика эксперименты**"
   ]
  },
  {
   "cell_type": "code",
   "execution_count": 101,
   "metadata": {},
   "outputs": [
    {
     "data": {
      "text/plain": [
       "DatetimeIndex(['2017-01-01', '2017-01-02', '2017-01-03', '2017-01-04',\n",
       "               '2017-01-05', '2017-01-06', '2017-01-07', '2017-01-08',\n",
       "               '2017-01-09', '2017-01-10',\n",
       "               ...\n",
       "               '2019-12-22', '2019-12-23', '2019-12-24', '2019-12-25',\n",
       "               '2019-12-26', '2019-12-27', '2019-12-28', '2019-12-29',\n",
       "               '2019-12-30', '2019-12-31'],\n",
       "              dtype='datetime64[ns]', length=1095, freq='D')"
      ]
     },
     "execution_count": 101,
     "metadata": {},
     "output_type": "execute_result"
    }
   ],
   "source": [
    "#тут у нас будет дэйт рэндж и календарь Фурье\n",
    "\n",
    "experiment_date_range = pd.date_range(start='2017-01-01', end='2019-12-31')\n",
    "\n",
    "experiment_fourier = CalendarFourier(freq='A', order=500)\n",
    "\n",
    "experiment_dp = DeterministicProcess(\n",
    "    index=experiment_date_range,\n",
    "    constant=True,               # dummy feature for bias (y-intercept)\n",
    "    order=3,                     # trend (order 1 means linear)\n",
    "    seasonal=True,               # weekly seasonality (indicators)\n",
    "    additional_terms=[experiment_fourier],  # annual seasonality (fourier)\n",
    "    drop=True,                   # drop terms to avoid collinearity\n",
    ")\n",
    "\n",
    "experiment_date_range"
   ]
  },
  {
   "cell_type": "code",
   "execution_count": 102,
   "metadata": {},
   "outputs": [
    {
     "data": {
      "text/plain": [
       "(1095, 1095, 365, 365)"
      ]
     },
     "execution_count": 102,
     "metadata": {},
     "output_type": "execute_result"
    }
   ],
   "source": [
    "#тут будет сэмпл и аут оф сэмпл + дата для обучения + дата для проверки\n",
    "\n",
    "experiment_in_sample = experiment_dp.in_sample()\n",
    "\n",
    "experiment_out_of_sample = experiment_dp.out_of_sample(steps=365)\n",
    "\n",
    "#data for learning\n",
    "\n",
    "experiment_train_y = X_train[0][:1095]['num_sold']\n",
    "experiment_test_y = X_train[0][1096:]['num_sold']\n",
    "\n",
    "experiment_train_y = experiment_train_y.reset_index()\n",
    "experiment_train_y.drop('index', axis = 1, inplace=True)\n",
    "experiment_test_y = experiment_test_y.reset_index()\n",
    "experiment_test_y.drop('index', axis = 1, inplace=True)\n",
    "\n",
    "len(experiment_train_y), len(experiment_in_sample), len(experiment_out_of_sample), len(experiment_test_y)"
   ]
  },
  {
   "cell_type": "code",
   "execution_count": 103,
   "metadata": {},
   "outputs": [
    {
     "data": {
      "text/plain": [
       "num_sold    14.994571\n",
       "dtype: float64"
      ]
     },
     "execution_count": 103,
     "metadata": {},
     "output_type": "execute_result"
    }
   ],
   "source": [
    "#эта ячейка будет для обучения и валидации модельки\n",
    "\n",
    "experiment_linear_model = LinearRegression(fit_intercept=False)\n",
    "\n",
    "experiment_linear_model.fit(experiment_in_sample,experiment_train_y)\n",
    "\n",
    "smape(experiment_linear_model.predict(experiment_out_of_sample), experiment_test_y)\n",
    "\n",
    "#smape очень высокая, что говорит о переобученности модели"
   ]
  },
  {
   "cell_type": "code",
   "execution_count": 104,
   "metadata": {},
   "outputs": [
    {
     "data": {
      "text/plain": [
       "[<matplotlib.lines.Line2D at 0x1e491159a80>]"
      ]
     },
     "execution_count": 104,
     "metadata": {},
     "output_type": "execute_result"
    },
    {
     "data": {
      "image/png": "[encoded data removed]",
      "text/plain": [
       "<Figure size 720x360 with 1 Axes>"
      ]
     },
     "metadata": {},
     "output_type": "display_data"
    }
   ],
   "source": [
    "plt.plot(experiment_linear_model.predict(experiment_out_of_sample))\n",
    "plt.plot(experiment_test_y)"
   ]
  },
  {
   "cell_type": "code",
   "execution_count": 105,
   "metadata": {},
   "outputs": [
    {
     "data": {
      "text/plain": [
       "num_sold    3.948867\n",
       "dtype: float64"
      ]
     },
     "execution_count": 105,
     "metadata": {},
     "output_type": "execute_result"
    }
   ],
   "source": [
    "smape(experiment_linear_model.predict(experiment_in_sample), experiment_train_y)"
   ]
  },
  {
   "cell_type": "code",
   "execution_count": 106,
   "metadata": {},
   "outputs": [
    {
     "data": {
      "text/plain": [
       "[<matplotlib.lines.Line2D at 0x1e491594e20>]"
      ]
     },
     "execution_count": 106,
     "metadata": {},
     "output_type": "execute_result"
    },
    {
     "data": {
      "image/png": "[encoded data removed]",
      "text/plain": [
       "<Figure size 720x360 with 1 Axes>"
      ]
     },
     "metadata": {},
     "output_type": "display_data"
    }
   ],
   "source": [
    "plt.plot(experiment_train_y)\n",
    "plt.plot(experiment_linear_model.predict(experiment_in_sample))"
   ]
  },
  {
   "cell_type": "markdown",
   "metadata": {},
   "source": [
    "**Конец эксперимента**"
   ]
  },
  {
   "cell_type": "code",
   "execution_count": null,
   "metadata": {},
   "outputs": [],
   "source": [
    "X = dp.in_sample()"
   ]
  },
  {
   "cell_type": "code",
   "execution_count": null,
   "metadata": {},
   "outputs": [],
   "source": [
    "date_range_1_dp_sample = dp_d_r_1.in_sample()"
   ]
  },
  {
   "cell_type": "code",
   "execution_count": null,
   "metadata": {},
   "outputs": [],
   "source": [
    "date_range_2_dp_sample = dp_d_r_2.in_sample()"
   ]
  },
  {
   "cell_type": "code",
   "execution_count": null,
   "metadata": {},
   "outputs": [],
   "source": [
    "date_range_2_df_OUT = dp_d_r_2.out_of_sample(steps=365)"
   ]
  },
  {
   "cell_type": "code",
   "execution_count": null,
   "metadata": {},
   "outputs": [],
   "source": [
    "temp_model = LinearRegression(fit_intercept=False)\n",
    "y1 = X_train[0]['num_sold'][:1095]\n",
    "y2 = X_train[0]['num_sold'][1096:]\n",
    "\n",
    "temp_model.fit(date_range_2_dp_sample, y1)"
   ]
  },
  {
   "cell_type": "code",
   "execution_count": null,
   "metadata": {},
   "outputs": [],
   "source": [
    "len(temp_model.predict(date_range_2_df_OUT)), len(y2)"
   ]
  },
  {
   "cell_type": "code",
   "execution_count": null,
   "metadata": {},
   "outputs": [],
   "source": [
    "smape(temp_model.predict(date_range_2_df_OUT), y2)"
   ]
  },
  {
   "cell_type": "code",
   "execution_count": null,
   "metadata": {},
   "outputs": [],
   "source": [
    "plt.rcParams[\"figure.figsize\"] = (10, 5)\n",
    "\n",
    "plt.plot(temp_model.predict(date_range_2_df_OUT))\n",
    "plt.plot(y2.reset_index().drop('index', axis=1))\n"
   ]
  },
  {
   "cell_type": "code",
   "execution_count": null,
   "metadata": {},
   "outputs": [],
   "source": [
    "temp_model = LinearRegression(fit_intercept=False)\n",
    "y1 = X_train[0]['num_sold'][:1096]\n",
    "y2 = X_train[0]['num_sold'][1096:]\n",
    "X1 = X[:1096]\n",
    "X2 = X[1096:]"
   ]
  },
  {
   "cell_type": "code",
   "execution_count": null,
   "metadata": {},
   "outputs": [],
   "source": [
    "X1_fore = dp.out_of_sample(steps=365)"
   ]
  },
  {
   "cell_type": "markdown",
   "metadata": {},
   "source": [
    "Next cell is very very important"
   ]
  },
  {
   "cell_type": "code",
   "execution_count": null,
   "metadata": {},
   "outputs": [],
   "source": [
    "temp_model = LinearRegression(fit_intercept=False)\n",
    "y1 = X_train[0]['num_sold'][:1096]\n",
    "y2 = X_train[0]['num_sold'][1096:]\n",
    "X1 = X[:1096]\n",
    "\n",
    "X2 = pd.out\n",
    "_1 = temp_model.fit(X1, y1)\n",
    "\n",
    "smape(temp_model.predict(X2), y2)"
   ]
  },
  {
   "cell_type": "code",
   "execution_count": null,
   "metadata": {},
   "outputs": [],
   "source": [
    "y = X_train[0]['num_sold']\n",
    "model = LinearRegression(fit_intercept=False)\n",
    "_ = model.fit(X, y)\n",
    "\n",
    "ax = plt.plot(model.predict(X))\n",
    "ax = plt.plot(X_train[0]['num_sold'].values)\n",
    "\n",
    "smape(model.predict(X), X_train[0]['num_sold'])"
   ]
  },
  {
   "cell_type": "code",
   "execution_count": null,
   "metadata": {},
   "outputs": [],
   "source": []
  },
  {
   "cell_type": "code",
   "execution_count": null,
   "metadata": {},
   "outputs": [],
   "source": [
    "model.predict(X)"
   ]
  }
 ],
 "metadata": {
  "kernelspec": {
   "display_name": "Python 3.10.4 64-bit",
   "language": "python",
   "name": "python3"
  },
  "language_info": {
   "codemirror_mode": {
    "name": "ipython",
    "version": 3
   },
   "file_extension": ".py",
   "mimetype": "text/x-python",
   "name": "python",
   "nbconvert_exporter": "python",
   "pygments_lexer": "ipython3",
   "version": "3.10.4"
  },
  "orig_nbformat": 4,
  "vscode": {
   "interpreter": {
    "hash": "b024f8da0c8551bbbf35191ef2c39e7fe2117f57d174045348ded50d165655c1"
   }
  }
 },
 "nbformat": 4,
 "nbformat_minor": 2
}
